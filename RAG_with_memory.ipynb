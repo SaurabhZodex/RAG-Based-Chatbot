{
 "cells": [
  {
   "cell_type": "markdown",
   "metadata": {},
   "source": [
    "## Necessary Imports"
   ]
  },
  {
   "cell_type": "code",
   "execution_count": 4,
   "metadata": {},
   "outputs": [],
   "source": [
    "from langchain_community.document_loaders import PyMuPDFLoader\n",
    "from langchain_huggingface import HuggingFaceEmbeddings\n",
    "from langchain_text_splitters import RecursiveCharacterTextSplitter\n",
    "from langchain_community.vectorstores import FAISS\n",
    "from dotenv import load_dotenv\n",
    "import os\n",
    "from groq import Groq\n",
    "from langchain_groq import ChatGroq\n",
    "import ipywidgets as widgets\n",
    "from IPython.display import display, HTML\n",
    "from langchain_core.prompts import ChatPromptTemplate\n",
    "from langchain_core.runnables import chain\n",
    "from langchain_core.chat_history import InMemoryChatMessageHistory\n",
    "from langchain_core.runnables.history import RunnableWithMessageHistory"
   ]
  },
  {
   "cell_type": "markdown",
   "metadata": {},
   "source": [
    "#### This is the simple RAG framework and for our purposes we will break this down into a three step process: indexing, retrieval and generation."
   ]
  },
  {
   "cell_type": "markdown",
   "metadata": {},
   "source": [
    "## Indexing"
   ]
  },
  {
   "cell_type": "markdown",
   "metadata": {},
   "source": [
    "### Loading Documents\n",
    "The project uses the following books as the primary data sources for retrieval and generation:\n",
    "1. \"Verity\" by Colleen Hoover\n",
    "    - Genre: Psychological Thriller\n",
    "\n",
    "    - Description: A gripping novel about a struggling writer, Lowen Ashleigh, who is hired to complete the remaining books in a successful series by the injured author, Verity Crawford. As Lowen works on the manuscripts, she uncovers dark secrets about Verity's life.\n",
    "\n",
    "    - Use Case: The book's complex narrative and character dynamics make it an excellent source for testing retrieval and generation capabilities.\n",
    "\n",
    "2. \"The Girl on the Train\" by Paula Hawkins\n",
    "    - Genre: Mystery, Thriller\n",
    "\n",
    "    - Description: A suspenseful story about Rachel, a woman who becomes entangled in a missing persons investigation that she observes during her daily train commute. The novel explores themes of memory, truth, and deception.\n",
    "\n",
    "    - Use Case: The intricate plot and unreliable narration provide rich content for testing advanced RAG techniques."
   ]
  },
  {
   "cell_type": "code",
   "execution_count": 5,
   "metadata": {},
   "outputs": [],
   "source": [
    "# Read pdfs data using PyMuPDF reader which is useful for adding detail metadata\n",
    "verity_book = PyMuPDFLoader(\"./Dataset/Verity-By-Colleen-Hoover.pdf\")\n",
    "tgott_book = PyMuPDFLoader(\"./Dataset/The-Girl-on-the-Train.pdf\")"
   ]
  },
  {
   "cell_type": "code",
   "execution_count": 6,
   "metadata": {},
   "outputs": [],
   "source": [
    "# Load the pdfs\n",
    "verity_book_pages = verity_book.load()\n",
    "tgott_book_pages = tgott_book.load()"
   ]
  },
  {
   "cell_type": "code",
   "execution_count": 7,
   "metadata": {},
   "outputs": [],
   "source": [
    "def is_page_empty(page, min_text_length=0):\n",
    "    \"\"\"\n",
    "    Check if a page is empty or contains very little text.\n",
    "    \n",
    "    Args:\n",
    "        page: The page object loaded by PyMuPDFLoader.\n",
    "        min_text_length: Minimum number of characters to consider a page non-empty.\n",
    "    \n",
    "    Returns:\n",
    "        bool: True if the page is empty, False otherwise.\n",
    "    \"\"\"\n",
    "    return len(page.page_content.strip()) <= min_text_length"
   ]
  },
  {
   "cell_type": "code",
   "execution_count": 8,
   "metadata": {},
   "outputs": [],
   "source": [
    "# Filter out empty pages from Verity book\n",
    "verity_book_pages_filtered = [page for page in verity_book_pages if not is_page_empty(page)]\n",
    "\n",
    "# Filter out empty pages from The Girl on the Train book\n",
    "tgott_book_pages_filtered = [page for page in tgott_book_pages if not is_page_empty(page)]"
   ]
  },
  {
   "cell_type": "code",
   "execution_count": 9,
   "metadata": {},
   "outputs": [],
   "source": [
    "documents = verity_book_pages_filtered + tgott_book_pages_filtered"
   ]
  },
  {
   "cell_type": "code",
   "execution_count": 10,
   "metadata": {},
   "outputs": [
    {
     "name": "stdout",
     "output_type": "stream",
     "text": [
      "page_content='Copyright © 2018 by Colleen Hoover\n",
      "All rights reserved. No part of this publication may be reproduced, distributed,\n",
      "or transmitted in any form or by any means, including photocopying, recording,\n",
      "or other electronic or mechanical methods, without the prior written permission\n",
      "of the publisher, except in the case of brief quotations embodied in critical\n",
      "reviews and certain other noncommercial uses permitted by copyright law.\n",
      "This book is a work of fiction. All names, characters, locations, and incidents are\n",
      "products of the authors’ imaginations. Any resemblance to actual persons, things,\n",
      "living or dead, locales, or events is entirely coincidental.\n",
      "VERITY\n",
      "Editing by Murphy Rae\n",
      "Cover Design by Murphy Rae\n",
      "Interior Formatting by Elaine York, Allusion Graphics, LLC' metadata={'producer': 'calibre 3.33.1 [https://calibre-ebook.com]', 'creator': 'calibre 3.33.1 [https://calibre-ebook.com]', 'creationdate': '2018-12-13T14:15:10+00:00', 'source': './Dataset/Verity-By-Colleen-Hoover.pdf', 'file_path': './Dataset/Verity-By-Colleen-Hoover.pdf', 'total_pages': 223, 'format': 'PDF 1.4', 'title': 'Verity', 'author': 'Colleen Hoover', 'subject': '', 'keywords': '', 'moddate': '', 'trapped': '', 'modDate': '', 'creationDate': \"D:20181213141510+00'00'\", 'page': 2}\n"
     ]
    }
   ],
   "source": [
    "print(documents[0])"
   ]
  },
  {
   "cell_type": "markdown",
   "metadata": {},
   "source": [
    "### Text Splitting using Recursive Character Text Splitter "
   ]
  },
  {
   "cell_type": "code",
   "execution_count": 11,
   "metadata": {},
   "outputs": [],
   "source": [
    "text_splitter = RecursiveCharacterTextSplitter(\n",
    "    chunk_size=500,\n",
    "    chunk_overlap=50,\n",
    "    length_function=len,\n",
    "    is_separator_regex=False,\n",
    ")"
   ]
  },
  {
   "cell_type": "code",
   "execution_count": 12,
   "metadata": {},
   "outputs": [],
   "source": [
    "texts = text_splitter.split_documents(documents)"
   ]
  },
  {
   "cell_type": "markdown",
   "metadata": {},
   "source": [
    "### Creating Embedding and Storing Text to Vector DB"
   ]
  },
  {
   "cell_type": "code",
   "execution_count": 13,
   "metadata": {},
   "outputs": [
    {
     "name": "stdout",
     "output_type": "stream",
     "text": [
      "WARNING:tensorflow:From d:\\Job\\Skill\\5. DataScience\\.venv\\lib\\site-packages\\tf_keras\\src\\losses.py:2976: The name tf.losses.sparse_softmax_cross_entropy is deprecated. Please use tf.compat.v1.losses.sparse_softmax_cross_entropy instead.\n",
      "\n"
     ]
    }
   ],
   "source": [
    "# Initialize embeddings\n",
    "embeddings = HuggingFaceEmbeddings(model_name=\"sentence-transformers/all-MiniLM-L6-v2\")"
   ]
  },
  {
   "cell_type": "code",
   "execution_count": 14,
   "metadata": {},
   "outputs": [],
   "source": [
    "# Create vector store\n",
    "vectorstore = FAISS.from_documents(texts, embeddings)"
   ]
  },
  {
   "cell_type": "markdown",
   "metadata": {},
   "source": [
    "## Retrieval"
   ]
  },
  {
   "cell_type": "code",
   "execution_count": 15,
   "metadata": {},
   "outputs": [],
   "source": [
    "db_retriever=vectorstore.as_retriever(search_type=\"similarity\", search_kwargs={\"k\": 5})"
   ]
  },
  {
   "cell_type": "code",
   "execution_count": 16,
   "metadata": {},
   "outputs": [
    {
     "data": {
      "text/plain": [
       "VectorStoreRetriever(tags=['FAISS', 'HuggingFaceEmbeddings'], vectorstore=<langchain_community.vectorstores.faiss.FAISS object at 0x000001A9656B9960>, search_kwargs={'k': 5})"
      ]
     },
     "execution_count": 16,
     "metadata": {},
     "output_type": "execute_result"
    }
   ],
   "source": [
    "db_retriever"
   ]
  },
  {
   "cell_type": "markdown",
   "metadata": {},
   "source": [
    "## Generation using Vector DB and Memory "
   ]
  },
  {
   "cell_type": "code",
   "execution_count": 21,
   "metadata": {},
   "outputs": [],
   "source": [
    "# Load the API key from .env file\n",
    "load_dotenv()\n",
    "chatgroq_api_key = os.getenv(\"GROQ_API_KEY\")\n",
    "# chatgroq_api_key"
   ]
  },
  {
   "cell_type": "code",
   "execution_count": 22,
   "metadata": {},
   "outputs": [],
   "source": [
    "# Initialize the ChatGroq model\n",
    "chatgroq_model = ChatGroq(temperature=0,\n",
    "                      model_name=\"deepseek-r1-distill-llama-70b\",\n",
    "                      api_key=chatgroq_api_key)"
   ]
  },
  {
   "cell_type": "code",
   "execution_count": 23,
   "metadata": {},
   "outputs": [],
   "source": [
    "# Define a function to extract the content of a message\n",
    "def get_msg_content(msg):\n",
    "    return msg.content\n",
    "\n",
    "# Define the SYSTEM prompt for contextualizing the chat history to come up with a standalone question\n",
    "contextualize_system_prompt = (\n",
    "\"\"\"Given a chat history and the latest user question \\\n",
    "which might reference context in the chat history, formulate a standalone question which can be understood \\\n",
    "without the chat history. Do NOT answer the question, just reformulate it if needed and otherwise return it as is.\"\"\"\n",
    ")\n",
    "\n",
    "# Define the prompt for contextualizing the chat history to come up with a standalone question\n",
    "contextualize_prompt = ChatPromptTemplate.from_messages([\n",
    "    (\"system\", contextualize_system_prompt),\n",
    "    (\"placeholder\", \"{chat_history}\"),\n",
    "    (\"human\", \"{input}\"),\n",
    "])\n",
    "\n",
    "# Define the chain for contextualizing the chat history to come up with a standalone question\n",
    "contextualize_chain = (\n",
    "    contextualize_prompt\n",
    "    | chatgroq_model\n",
    "    | get_msg_content\n",
    ")\n"
   ]
  },
  {
   "cell_type": "code",
   "execution_count": 24,
   "metadata": {},
   "outputs": [],
   "source": [
    "# Define the question-answering SYSTEM prompt to generate the final answer\n",
    "qa_system_prompt = (\n",
    "    \"You are an assistant for question-answering tasks. \"\n",
    "    \"Use the following pieces of retrieved context mentioned within delimeter ### to answer \"\n",
    "    \"the question. If you don't know the answer, say that you \"\n",
    "    \"Sorry, I am don't know.\"\n",
    "    \"\\n\\n\"\n",
    "    \"###\"\n",
    "    \"{context}\"\n",
    "    \"###\"\n",
    ")\n",
    "\n",
    "# Define the question-answering prompt to generate the final answer\n",
    "qa_prompt = ChatPromptTemplate.from_messages(\n",
    "    [\n",
    "        (\"system\", qa_system_prompt),\n",
    "        (\"placeholder\", \"{chat_history}\"),\n",
    "        (\"human\", \"{input}\"),\n",
    "    ]\n",
    ")\n",
    "\n",
    "# Define the chain to generate the final answer\n",
    "qa_chain = (\n",
    "    qa_prompt\n",
    "    | chatgroq_model\n",
    "    | get_msg_content\n",
    ") "
   ]
  },
  {
   "cell_type": "code",
   "execution_count": 25,
   "metadata": {},
   "outputs": [],
   "source": [
    "# Define the overall chain the uses both the retrieved documents and the chat history to answer the question\n",
    "@chain\n",
    "def history_aware_qa(input):\n",
    "    # Rephrase the question if needed\n",
    "    if input.get('chat_history'):\n",
    "        question = contextualize_chain.invoke(input)\n",
    "    else:\n",
    "        question = input['input']\n",
    "\n",
    "    # print(input)\n",
    "    # Get context from the retriever\n",
    "    context = db_retriever.invoke(question)\n",
    "    # print(context)\n",
    "    \n",
    "    # Get the final answer\n",
    "    return qa_chain.invoke({\n",
    "        **input,\n",
    "        \"context\": context\n",
    "    })"
   ]
  },
  {
   "cell_type": "code",
   "execution_count": null,
   "metadata": {},
   "outputs": [],
   "source": [
    "from collections import defaultdict\n",
    "\n",
    "# Create a dictionary to store chat histories per session\n",
    "session_chat_histories = defaultdict(InMemoryChatMessageHistory)\n",
    "\n",
    "# Modify your RunnableWithMessageHistory to use session-specific histories\n",
    "\n",
    "qa_with_history = RunnableWithMessageHistory(\n",
    "    history_aware_qa,\n",
    "    lambda session_id: session_chat_histories[session_id],  # Now session-aware\n",
    "    input_messages_key=\"input\",\n",
    "    history_messages_key=\"chat_history\",\n",
    ")"
   ]
  },
  {
   "cell_type": "code",
   "execution_count": null,
   "metadata": {},
   "outputs": [
    {
     "data": {
      "application/vnd.jupyter.widget-view+json": {
       "model_id": "3b2cc3baa03c49bc96e42d444cb5ade4",
       "version_major": 2,
       "version_minor": 0
      },
      "text/plain": [
       "VBox(children=(Text(value='', description='You:', layout=Layout(width='80%'), placeholder='Type your message h…"
      ]
     },
     "metadata": {},
     "output_type": "display_data"
    }
   ],
   "source": [
    "# Define the chatbot response function\n",
    "def chatbot_response(user_input):\n",
    "    # Finally, let's invoke the chain\n",
    "    result = qa_with_history.invoke(\n",
    "        {\"input\": user_input},\n",
    "        config={\"configurable\": {\"session_id\": \"123\"}},\n",
    "    )\n",
    "    return f\"{result}\"\n",
    "\n",
    "# Create the chatbot UI\n",
    "# Text input for user messages\n",
    "user_input = widgets.Text(\n",
    "    placeholder=\"Type your message here...\",\n",
    "    description=\"You:\",\n",
    "    layout=widgets.Layout(width=\"80%\")\n",
    ")\n",
    "\n",
    "# Button to submit messages\n",
    "submit_button = widgets.Button(\n",
    "    description=\"Send\",\n",
    "    button_style=\"success\"\n",
    ")\n",
    "\n",
    "# Output area for the conversation\n",
    "output = widgets.Output(\n",
    "    layout=widgets.Layout(),\n",
    "    style={\"description_width\": \"initial\"}\n",
    ")\n",
    "\n",
    "# Function to handle button click\n",
    "def on_submit_button_click(b):\n",
    "    with output:\n",
    "        user_message = user_input.value\n",
    "        if user_message.strip():  # Check if the input is not empty\n",
    "            # Display the user's message\n",
    "            display(HTML(f\"<strong>You:</strong> {user_message}\"))\n",
    "            \n",
    "            # Get the chatbot's response\n",
    "            bot_response = chatbot_response(user_message)\n",
    "\n",
    "            # Extract the content within the <think> tag\n",
    "            think_content = bot_response.split('<think>')[1].split('</think>')[0].strip()\n",
    "\n",
    "            # Extract the bot's response after the <think> tag\n",
    "            answer_content = bot_response.split('</think>')[1].strip()\n",
    "\n",
    "            # Format the output\n",
    "            formatted_output = f\"\"\"\n",
    "            <strong>AskAI Thinking:</strong> <think>{think_content}</think>\n",
    "            <br>\n",
    "            <strong>AskAI Answer:</strong> {answer_content}\n",
    "            \"\"\"\n",
    "            \n",
    "            # Display the bot's response\n",
    "            display(HTML(f\"{formatted_output}\"))\n",
    "            display(HTML(\"<br>\"))\n",
    "            # Clear the input box\n",
    "            user_input.value = \"\"\n",
    "        else:\n",
    "            display(HTML(\"<em>Please enter a message.</em>\"))\n",
    "\n",
    "# Attach the function to the button's click event\n",
    "submit_button.on_click(on_submit_button_click)\n",
    "\n",
    "# Arrange the widgets vertically\n",
    "chatbot_ui = widgets.VBox([user_input, submit_button, output])\n",
    "\n",
    "# Display the chatbot UI\n",
    "display(chatbot_ui)"
   ]
  },
  {
   "cell_type": "code",
   "execution_count": null,
   "metadata": {},
   "outputs": [
    {
     "name": "stdout",
     "output_type": "stream",
     "text": [
      "human: What is the main them of Verity?\n",
      "ai: <think>\n",
      "Okay, so I need to figure out the main theme of the book \"Verity\" by Colleen Hoover based on the provided context. Let me go through each document one by one to see what clues I can find.\n",
      "\n",
      "Starting with the first document (id='f95a3898-4529-4707-8c52-0adfbf1cc83a', page 61), the narrator is talking about skimming through the first and second books, making notes on characters. They mention needing to understand what motivates the characters, what moves them, and what sets them off. This suggests that the story is character-driven and possibly delves into the psychological aspects of the characters.\n",
      "\n",
      "The second document (id='0b2ac7fc-9250-4201-b2fc-14474f029b0e', page 94) discusses the narrator's obsession with Verity and how she's putting a lot of herself into her series. The narrator justifies their snooping as research, indicating that Verity's personal life and writing are deeply connected. This might hint at themes of identity or the blurring of reality and fiction.\n",
      "\n",
      "Moving to the third document (id='9f6271a5-9035-484a-b727-bf27d4b588e5', page 118), the narrator is avoiding dinner because April has Verity at the table, showing some tension or fear towards Verity. They also mention staring at the drawer with Verity's manuscript and deciding to read one more chapter, which suggests a mix of curiosity and apprehension. This could relate to themes of obsession or the impact of someone's work on others.\n",
      "\n",
      "The fourth document (id='b8e41ac4-8a87-462a-b006-600996edd803', page 52) talks about the narrator's curiosity about Verity's marriage and the ominous sentence ending the first chapter. This sentence implies a dark secret, which might be a writing strategy to set up future plot points. It touches on themes of marriage, secrets, and possibly betrayal.\n",
      "\n",
      "The fifth document (id='8d1cb81f-b659-4ec1-bc8d-7511d8b42536', page 87) mentions that Verity's suspense novels are successful because they're written from the villain's point of view. The narrator is trying to convince themselves that Verity is a better person than she seems. This suggests themes of deception, the complexity of human nature, and the idea that people might not be as they appear.\n",
      "\n",
      "Putting it all together, the main themes seem to revolve around the complexity of characters, the impact of secrets and lies, the blurring of reality and fiction, and the psychological aspects of human behavior. The story likely explores how people's true selves can be hidden behind facades, and how this affects their relationships and the stories they tell.\n",
      "</think>\n",
      "\n",
      "The main themes of \"Verity\" by Colleen Hoover appear to revolve around the complexity of human nature, the impact of secrets and lies, and the psychological aspects of characters. The story explores how individuals may hide their true selves behind facades, affecting their relationships and the narratives they create. Additionally, the blurring of reality and fiction is a significant theme, as Verity's personal life and writing are deeply intertwined, leading to a mix of curiosity, apprehension, and obsession.\n"
     ]
    }
   ],
   "source": [
    "# Get messages for session 123\n",
    "history_for_123 = session_chat_histories[\"123\"].messages\n",
    "\n",
    "# Print formatted messages\n",
    "for msg in history_for_123:\n",
    "    print(f\"{msg.type}: {msg.content}\")\n",
    "    print(\"\\n\")"
   ]
  },
  {
   "cell_type": "code",
   "execution_count": 33,
   "metadata": {},
   "outputs": [
    {
     "name": "stdout",
     "output_type": "stream",
     "text": [
      "No messages found for session 456.\n"
     ]
    }
   ],
   "source": [
    "# Get messages for session 123\n",
    "history_for_456 = session_chat_histories[\"456\"].messages\n",
    "\n",
    "if not history_for_456:\n",
    "    print(\"No messages found for session 456.\")\n",
    "\n",
    "else:\n",
    "    for msg in history_for_456:\n",
    "        print(f\"{msg.type}: {msg.content}\")"
   ]
  },
  {
   "cell_type": "markdown",
   "metadata": {},
   "source": [
    "### Some Example Question and Answer"
   ]
  },
  {
   "cell_type": "markdown",
   "metadata": {},
   "source": [
    "---\n",
    "- You: What is the main theme of Verity?\n",
    "- AskAI Answer: The main theme of \"Verity\" by Colleen Hoover revolves around the exploration of human motivations, the darker aspects of relationships, and the psychological depth of characters. The book delves into secrets, betrayal, and the complexities of human behavior, while also touching on the blurred lines between reality and fiction. It represents a departure from Hoover's typical emotional love stories, embracing a more intense and psychological narrative.\n",
    "---\n",
    "- You: Who murdered Megan Hipwell?\n",
    "- AskAI Answer: In \"The Girl on the Train\" by Paula Hawkins, the murderer of Megan Hipwell is revealed to be **Tom Watson**. Tom, who is also the ex-husband of the protagonist Rachel Watson, killed Megan after she discovered his affair with her.\n",
    "---\n",
    "- You: What last 2 questions did I ask?\n",
    "- AskAI Answer: The last two questions you asked were: 1. \"What is the main theme of Verity?\" 2. \"Who murdered Megan Hipwell?\"\n",
    "---\n",
    "- You: List all my questions which I asked till now.\n",
    "- AskAI Answer: Here is a list of all the questions you've asked so far: 1. \"What is the main theme of Verity?\" 2. \"Who murdered Megan Hipwell?\" 3. \"What last 2 questions did I ask?\" 4. \"List all my questions which I asked till now.\"\n",
    "---\n",
    "- You: How many childern do Verity and Jeremy have and tell me their children names.\n",
    "- AskAI Answer: From the context provided, Verity and Jeremy have two children, twin daughters named **Chastin** and **Harper**.\n",
    "---\n",
    "- You: Who was Crew?\n",
    "- AskAI Answer: Crew is Jeremy's son, and he plays a significant role in the story. Crew is a young boy who has experienced traumatic events, including witnessing his sister's death and his mother's inaction during the incident. He is close to his father, Jeremy, and is part of a family that includes the narrator, who is pregnant, making Crew a big brother soon. Crew's character deals with adjusting to his new family dynamics and the emotional scars from his past.\n",
    "---\n"
   ]
  },
  {
   "cell_type": "markdown",
   "metadata": {},
   "source": [
    "#### Simple RAG is able to answer direct questions about novels but it is not able to answer complex questions correctly like How many childern do Verity and Jeremy have and tell me their children names?"
   ]
  },
  {
   "cell_type": "code",
   "execution_count": null,
   "metadata": {},
   "outputs": [],
   "source": []
  }
 ],
 "metadata": {
  "kernelspec": {
   "display_name": ".venv",
   "language": "python",
   "name": "python3"
  },
  "language_info": {
   "codemirror_mode": {
    "name": "ipython",
    "version": 3
   },
   "file_extension": ".py",
   "mimetype": "text/x-python",
   "name": "python",
   "nbconvert_exporter": "python",
   "pygments_lexer": "ipython3",
   "version": "3.10.11"
  }
 },
 "nbformat": 4,
 "nbformat_minor": 2
}
