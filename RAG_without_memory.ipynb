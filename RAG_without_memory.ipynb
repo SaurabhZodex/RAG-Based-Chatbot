{
 "cells": [
  {
   "cell_type": "markdown",
   "metadata": {},
   "source": [
    "## Necessary Imports"
   ]
  },
  {
   "cell_type": "code",
   "execution_count": null,
   "metadata": {},
   "outputs": [],
   "source": [
    "from langchain_community.document_loaders import PyMuPDFLoader\n",
    "from langchain_huggingface import HuggingFaceEmbeddings\n",
    "from langchain_text_splitters import RecursiveCharacterTextSplitter\n",
    "from langchain_community.vectorstores import FAISS\n",
    "from transformers import pipeline\n",
    "from langchain.chains import RetrievalQA\n",
    "from dotenv import load_dotenv\n",
    "import os\n",
    "from groq import Groq\n",
    "from langchain_groq import ChatGroq\n",
    "from langchain.chains import ConversationChain\n",
    "from langchain.memory import ConversationBufferMemory\n",
    "import ipywidgets as widgets\n",
    "from IPython.display import display, HTML"
   ]
  },
  {
   "cell_type": "markdown",
   "metadata": {},
   "source": [
    "#### This is the simple RAG framework and for our purposes we will break this down into a three step process: indexing, retrieval and generation."
   ]
  },
  {
   "cell_type": "markdown",
   "metadata": {},
   "source": [
    "## Indexing"
   ]
  },
  {
   "cell_type": "markdown",
   "metadata": {},
   "source": [
    "### Loading Documents\n",
    "The project uses the following books as the primary data sources for retrieval and generation:\n",
    "1. \"Verity\" by Colleen Hoover\n",
    "    - Genre: Psychological Thriller\n",
    "\n",
    "    - Description: A gripping novel about a struggling writer, Lowen Ashleigh, who is hired to complete the remaining books in a successful series by the injured author, Verity Crawford. As Lowen works on the manuscripts, she uncovers dark secrets about Verity's life.\n",
    "\n",
    "    - Use Case: The book's complex narrative and character dynamics make it an excellent source for testing retrieval and generation capabilities.\n",
    "\n",
    "2. \"The Girl on the Train\" by Paula Hawkins\n",
    "    - Genre: Mystery, Thriller\n",
    "\n",
    "    - Description: A suspenseful story about Rachel, a woman who becomes entangled in a missing persons investigation that she observes during her daily train commute. The novel explores themes of memory, truth, and deception.\n",
    "\n",
    "    - Use Case: The intricate plot and unreliable narration provide rich content for testing advanced RAG techniques."
   ]
  },
  {
   "cell_type": "code",
   "execution_count": null,
   "metadata": {},
   "outputs": [],
   "source": [
    "verity_book = PyMuPDFLoader(\"./Dataset/Verity-By-Colleen-Hoover.pdf\")\n",
    "tgott_book = PyMuPDFLoader(\"./Dataset/The-Girl-on-the-Train.pdf\")"
   ]
  },
  {
   "cell_type": "code",
   "execution_count": null,
   "metadata": {},
   "outputs": [],
   "source": [
    "verity_book_pages = verity_book.load()\n",
    "tgott_book_pages = tgott_book.load()"
   ]
  },
  {
   "cell_type": "code",
   "execution_count": null,
   "metadata": {},
   "outputs": [],
   "source": [
    "def is_page_empty(page, min_text_length=0):\n",
    "    \"\"\"\n",
    "    Check if a page is empty or contains very little text.\n",
    "    \n",
    "    Args:\n",
    "        page: The page object loaded by PyMuPDFLoader.\n",
    "        min_text_length: Minimum number of characters to consider a page non-empty.\n",
    "    \n",
    "    Returns:\n",
    "        bool: True if the page is empty, False otherwise.\n",
    "    \"\"\"\n",
    "    return len(page.page_content.strip()) <= min_text_length"
   ]
  },
  {
   "cell_type": "code",
   "execution_count": null,
   "metadata": {},
   "outputs": [],
   "source": [
    "# Filter out empty pages from Verity book\n",
    "verity_book_pages_filtered = [page for page in verity_book_pages if not is_page_empty(page)]\n",
    "\n",
    "# Filter out empty pages from The Girl on the Train book\n",
    "tgott_book_pages_filtered = [page for page in tgott_book_pages if not is_page_empty(page)]"
   ]
  },
  {
   "cell_type": "code",
   "execution_count": null,
   "metadata": {},
   "outputs": [],
   "source": [
    "documents = verity_book_pages_filtered + tgott_book_pages_filtered"
   ]
  },
  {
   "cell_type": "code",
   "execution_count": null,
   "metadata": {},
   "outputs": [],
   "source": [
    "print(documents[0])"
   ]
  },
  {
   "cell_type": "markdown",
   "metadata": {},
   "source": [
    "### Text Splitting using Recursive Character Text Splitter "
   ]
  },
  {
   "cell_type": "code",
   "execution_count": null,
   "metadata": {},
   "outputs": [],
   "source": [
    "text_splitter = RecursiveCharacterTextSplitter(\n",
    "    chunk_size=500,\n",
    "    chunk_overlap=50,\n",
    "    length_function=len,\n",
    "    is_separator_regex=False,\n",
    ")"
   ]
  },
  {
   "cell_type": "code",
   "execution_count": null,
   "metadata": {},
   "outputs": [],
   "source": [
    "texts = text_splitter.split_documents(documents)"
   ]
  },
  {
   "cell_type": "markdown",
   "metadata": {},
   "source": [
    "### Creating Embedding and Storing Text to Vector DB"
   ]
  },
  {
   "cell_type": "code",
   "execution_count": null,
   "metadata": {},
   "outputs": [],
   "source": [
    "# Initialize embeddings\n",
    "embeddings = HuggingFaceEmbeddings(model_name=\"sentence-transformers/all-MiniLM-L6-v2\")"
   ]
  },
  {
   "cell_type": "code",
   "execution_count": null,
   "metadata": {},
   "outputs": [],
   "source": [
    "# Create vector store\n",
    "vectorstore = FAISS.from_documents(texts, embeddings)"
   ]
  },
  {
   "cell_type": "markdown",
   "metadata": {},
   "source": [
    "## Retrieval"
   ]
  },
  {
   "cell_type": "code",
   "execution_count": null,
   "metadata": {},
   "outputs": [],
   "source": [
    "# Load the API key from .env file\n",
    "load_dotenv()\n",
    "chatgroq_api_key = os.getenv(\"GROQ_API_KEY\")"
   ]
  },
  {
   "cell_type": "code",
   "execution_count": null,
   "metadata": {},
   "outputs": [],
   "source": [
    "# Initialize the ChatGroq model\n",
    "chatgroq_model = ChatGroq(temperature=0,\n",
    "                      model_name=\"mixtral-8x7b-32768\",\n",
    "                      api_key=chatgroq_api_key)"
   ]
  },
  {
   "cell_type": "code",
   "execution_count": null,
   "metadata": {},
   "outputs": [],
   "source": [
    "# Create a RetrievalQA chain\n",
    "qa_chain = RetrievalQA.from_chain_type(\n",
    "    llm=chatgroq_model,\n",
    "    chain_type=\"stuff\",\n",
    "    retriever=vectorstore.as_retriever(search_type=\"similarity\", search_kwargs={\"k\": 5}),\n",
    "    return_source_documents=True,\n",
    "    # verbose=True\n",
    ")"
   ]
  },
  {
   "cell_type": "markdown",
   "metadata": {},
   "source": [
    "## Generation"
   ]
  },
  {
   "cell_type": "code",
   "execution_count": null,
   "metadata": {},
   "outputs": [],
   "source": [
    "# Define the chatbot response function\n",
    "def chatbot_response(user_input):\n",
    "    result = qa_chain({\"query\": user_input})\n",
    "    return f\"{result['result']}\"\n",
    "\n",
    "# Create the chatbot UI\n",
    "# Text input for user messages\n",
    "user_input = widgets.Text(\n",
    "    placeholder=\"Type your message here...\",\n",
    "    description=\"You:\",\n",
    "    layout=widgets.Layout(width=\"80%\")\n",
    ")\n",
    "\n",
    "# Button to submit messages\n",
    "submit_button = widgets.Button(\n",
    "    description=\"Send\",\n",
    "    button_style=\"success\"\n",
    ")\n",
    "\n",
    "# Output area for the conversation\n",
    "output = widgets.Output(\n",
    "    layout=widgets.Layout(),\n",
    "    style={\"description_width\": \"initial\"}\n",
    ")\n",
    "\n",
    "# Function to handle button click\n",
    "def on_submit_button_click(b):\n",
    "    with output:\n",
    "        user_message = user_input.value\n",
    "        if user_message.strip():  # Check if the input is not empty\n",
    "            # Display the user's message\n",
    "            display(HTML(f\"<strong>You:</strong> {user_message}\"))\n",
    "            \n",
    "            # Get the chatbot's response\n",
    "            bot_response = chatbot_response(user_message)\n",
    "            \n",
    "            # Display the bot's response\n",
    "            display(HTML(f\"<strong>Bot:</strong> {bot_response} <br>\"))\n",
    "            display(HTML(\"<br>\"))\n",
    "            # Clear the input box\n",
    "            user_input.value = \"\"\n",
    "        else:\n",
    "            display(HTML(\"<em>Please enter a message.</em>\"))\n",
    "\n",
    "# Attach the function to the button's click event\n",
    "submit_button.on_click(on_submit_button_click)\n",
    "\n",
    "# Arrange the widgets vertically\n",
    "chatbot_ui = widgets.VBox([user_input, submit_button, output])\n",
    "\n",
    "# Display the chatbot UI\n",
    "display(chatbot_ui)"
   ]
  },
  {
   "cell_type": "code",
   "execution_count": null,
   "metadata": {},
   "outputs": [],
   "source": []
  }
 ],
 "metadata": {
  "kernelspec": {
   "display_name": ".venv",
   "language": "python",
   "name": "python3"
  },
  "language_info": {
   "codemirror_mode": {
    "name": "ipython",
    "version": 3
   },
   "file_extension": ".py",
   "mimetype": "text/x-python",
   "name": "python",
   "nbconvert_exporter": "python",
   "pygments_lexer": "ipython3",
   "version": "3.10.11"
  }
 },
 "nbformat": 4,
 "nbformat_minor": 2
}
